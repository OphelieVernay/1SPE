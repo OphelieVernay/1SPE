{
 "cells": [
  {
   "cell_type": "markdown",
   "id": "d7b7f840-f6a1-43f3-bca7-3bab6617c41a",
   "metadata": {},
   "source": [
    "<p style=\"text-align:center; font-size:28pt; font-weight:bold;background-color:tomato\"> Tracer des graphiques et des vecteurs avec python </p>"
   ]
  },
  {
   "cell_type": "markdown",
   "id": "6dbc5fd3-781a-42eb-aa7a-139e852a5cd9",
   "metadata": {
    "tags": []
   },
   "source": [
    "<div class=\"alert alert-block alert-danger\">\n",
    "    <b>CONSIGNES GENERALES</b>\n",
    "     <ul>\n",
    "        <li> Lire les consignes dans les cellules bleues. </li>\n",
    "         <li> Avant de passer à la question suivante, penser à bien <b> exécuter la cellule</b> : CTRL + ENTRÉE </li>\n",
    "         <li> Un tuto vidéo est disponible en suivant <a href=https://tube-sciences-technologies.apps.education.fr/w/m9zJe9P2581RMsvrzr2dzF> ce lien </a> (3 premières minutes)\n",
    "    </ul>\n",
    "    <p> &#9757;&#127997;Remarque : &#9757;&#127997; pour afficher les numéros de ligne, cliquer sur <b>View $\\longrightarrow$ Toggle Line Numbers (ou View Line Numbers)</b></p>\n",
    "</div>"
   ]
  },
  {
   "cell_type": "markdown",
   "id": "93b820d1-ed4b-4709-9fc6-7c61b3080840",
   "metadata": {
    "tags": []
   },
   "source": [
    "\n",
    "<h1 style=\"color:DarkCyan\"> Tracer un graphique</h1>\n"
   ]
  },
  {
   "cell_type": "markdown",
   "id": "d068da0c-1162-4d8c-851f-751e104c96ad",
   "metadata": {},
   "source": [
    "Pour tracer un graphique avec python on utilise la bibliothèque matplotlib.pyplot.\n",
    "\n",
    "Voici les instructions minimales utilisées:"
   ]
  },
  {
   "cell_type": "markdown",
   "id": "058e2df6-e359-408d-9d42-e2356b06675e",
   "metadata": {
    "tags": []
   },
   "source": [
    "<div class=\"alert alert-block alert-info\">\n",
    "    Exécuter la cellule pour observer le résultat.\n",
    "</div>"
   ]
  },
  {
   "cell_type": "code",
   "execution_count": 2,
   "id": "77a7bff4-e7a3-4348-bd17-bea7528e824a",
   "metadata": {},
   "outputs": [
    {
     "data": {
      "image/png": "[encoded data removed]",
      "text/plain": [
       "<Figure size 432x288 with 1 Axes>"
      ]
     },
     "metadata": {
      "needs_background": "light"
     },
     "output_type": "display_data"
    }
   ],
   "source": [
    "import matplotlib.pyplot as plt\n",
    "x = [0, 1, 2, 3, 4, 5, 6]\n",
    "y = [1.1, 2, 4.2, 6, 9, 12.1, 19]\n",
    "plt.plot(x, y, 'or')\n",
    "plt.xlabel(\"x\")\n",
    "plt.ylabel(\"y\")\n",
    "plt.title(\"y en fonction de x\")\n",
    "plt.grid()\n",
    "plt.show()"
   ]
  },
  {
   "cell_type": "markdown",
   "id": "df4fdea1-dcd9-4354-9213-59f78d2398f8",
   "metadata": {},
   "source": [
    "### EXPLICATIONS:"
   ]
  },
  {
   "cell_type": "markdown",
   "id": "0c83d313-291c-4089-8ca4-560e74979978",
   "metadata": {},
   "source": [
    "1. La première ligne permet d'importer le module contenant les fonctions utiles au tracé (comme la fonction ```plot()```)\n",
    "``` python \n",
    "import matplotlib.pyplot as plt \n",
    "```"
   ]
  },
  {
   "cell_type": "markdown",
   "id": "fb276ad0-4ac0-47b9-901e-d1209d183a21",
   "metadata": {
    "tags": []
   },
   "source": [
    "2. Il faut deux tableaux contenant le même nombre de valeurs\n",
    "```python\n",
    "x = [0, 1, 2, 3, 4, 5, 6]\n",
    "y = [1.1, 2, 4.2, 6, 9, 12.1, 19]\n",
    "```"
   ]
  },
  {
   "cell_type": "markdown",
   "id": "62b92205-5f1f-4ede-b7a3-5070beca8112",
   "metadata": {
    "tags": []
   },
   "source": [
    "<span id=partie3> </span>\n",
    "\n",
    "3. Il suffit ensuite de tracer le graphique avec la fonction ```plot()``` \n",
    "```python\n",
    "plt.plot(x, y, 'or')\n",
    "```\n",
    "\n",
    "_Le troisième argument demande des points en forme de ronds, de couleur rouge_"
   ]
  },
  {
   "cell_type": "markdown",
   "id": "8c66f929-f580-451b-b855-35ef6d30f15e",
   "metadata": {
    "tags": []
   },
   "source": [
    "4. On termine toujours pas la fonction permettant l'affichage\n",
    "```python\n",
    "plt.show()\n",
    "```"
   ]
  },
  {
   "cell_type": "markdown",
   "id": "1b821e88-15bc-49cb-bac0-d81af0fbf121",
   "metadata": {
    "tags": []
   },
   "source": [
    "<div class=\"alert alert-block alert-info\">\n",
    "    <b> Consignes </b>\n",
    "    <p> On dispose d'un tableau contenant les valeurs de la température au cours de la journée du 15 Octobre à Paris.</p>\n",
    "    <p>Taper les instructions nécessaires pour tracer le graphique représentant l'évolution de la température au cours de la journée. </p>\n",
    "</div>"
   ]
  },
  {
   "cell_type": "markdown",
   "id": "6fe5d057-8313-4335-bc75-1c2d7f69d0ff",
   "metadata": {},
   "source": [
    "|$t$ / h| 6 | 7 | 8 | 9 | 10 | 11 | 12 |13 | 14 | 15 | 16 | 17 | 18 | 19 | 20 | 21 |\n",
    "|--|--|--|--|--|--|--|--|--|--|--|--|--|--|--|--|--|\n",
    "|$T$ / °C| 6.9 | 7.6 | 7.4 | 7.6 | 10.3 | 13.6 | 16.6 |17 | 18.7 | 19.7 | 19 | 18.7 | 16.6 | 14.1 | 13.8 | 12.6 |\n",
    "\n",
    "*source : [meteociel.fr](https://www.meteociel.fr/temps-reel/obs_villes.php?code2=75106001&jour2=15&mois2=9&annee2=2021)*"
   ]
  },
  {
   "cell_type": "code",
   "execution_count": null,
   "id": "e346db94-47f7-4d0a-8780-f794263dc390",
   "metadata": {},
   "outputs": [],
   "source": [
    "\n",
    "T = []\n",
    "t = []\n"
   ]
  },
  {
   "cell_type": "markdown",
   "id": "3668adb3-b2ad-4fa0-927c-e1004d3055a9",
   "metadata": {},
   "source": [
    "---"
   ]
  },
  {
   "cell_type": "markdown",
   "id": "519283ae-8274-4084-b3e2-af9cc3625839",
   "metadata": {
    "tags": []
   },
   "source": [
    "\n",
    "<h1 style=\"color:DarkCyan\"> Tracer des vecteurs </h1>\n"
   ]
  },
  {
   "cell_type": "markdown",
   "id": "c356099a-8ee4-494c-82ed-e2932138bf72",
   "metadata": {
    "tags": []
   },
   "source": [
    "<div class=\"alert alert-block alert-info\">\n",
    "    <b> Consignes </b>\n",
    "    <ol> \n",
    "        <li>Exécuter la cellule suivante une première fois pour observer\n",
    "            le résultats</li>\n",
    "        <li>Copier / coller la ligne 6 en modifiant les arguments de la \n",
    "            fonction <code>quiver()</code> et expliquer le rôle \n",
    "            de chacun.</li>\n",
    "    </ol>\n",
    "    <p>&#9757;&#127997; On ne modifiera pas les deux derniers arguments </p>\n",
    "</div>"
   ]
  },
  {
   "cell_type": "code",
   "execution_count": null,
   "id": "0ab86373-348a-437e-b12a-ac17eea6b95b",
   "metadata": {
    "tags": []
   },
   "outputs": [],
   "source": [
    "import matplotlib.pyplot as plt\n",
    "plt.figure()  # début de la figure\n",
    "plt.grid()\n",
    "plt.xlim(0, 6)\n",
    "plt.ylim(0, 6)\n",
    "plt.quiver(3, 0, 1, 1, scale=1, color='red', angles='xy',  scale_units='xy')\n",
    "plt.show()  # fin de la figure "
   ]
  },
  {
   "cell_type": "markdown",
   "id": "51e3ab5a-b2b1-4c46-b137-c0395ae084a8",
   "metadata": {
    "tags": []
   },
   "source": [
    "<div class=\"alert alert-block alert-success\">\n",
    "    <details>\n",
    "        <summary> <b> Aide 1 </b> </summary>\n",
    "        <p> Copier coller la ligne 5 en modifiant à chaque fois la valeurs \n",
    "            <b> d'un seul argument </b> <br> et modifier la couleur pour chaque vecteur. On peut part exemple\n",
    "        commencer par la ligne ci-dessous: </p>\n",
    "        <code>plt.quiver(3, 0, 1, 1,  scale=1, color='red', angles='xy',  scale_units='xy')</code> \n",
    "    </details>\n",
    "</div>"
   ]
  },
  {
   "cell_type": "markdown",
   "id": "b42c644e-62d6-4279-b749-8011ed4a1b93",
   "metadata": {
    "tags": []
   },
   "source": [
    "<div class=\"alert alert-block alert-success\">\n",
    "    <details>\n",
    "        <summary> <b> Aide 2 </summary>\n",
    "        <p> En cas de panne d'inspiration on pourra copier / coller les \n",
    "            les instructions suivantes: et observer les résultats pour \n",
    "            comprendre le rôle des arguments.</p>\n",
    "<p><code>plt.quiver(3, 0, 1, 1,  scale=1, color='red', angles='xy',  scale_units='xy')\n",
    "plt.quiver(0, 3, 1, 1, scale=1, color='blue', angles='xy',  scale_units='xy')\n",
    "plt.quiver(0, 0, 3, 1, scale=1, color='indigo', angles='xy',  scale_units='xy')\n",
    "plt.quiver(0, 0, 1, 3, scale=1, color='cyan', angles='xy',  scale_units='xy')\n",
    "plt.quiver(0, 0, 1, 1,  scale=.5, color='green', angles='xy',  scale_units='xy')</code> </p>\n",
    "    </details>\n",
    "</div>"
   ]
  }
 ],
 "metadata": {
  "kernelspec": {
   "display_name": "Python 3 (ipykernel)",
   "language": "python",
   "name": "python3"
  },
  "language_info": {
   "codemirror_mode": {
    "name": "ipython",
    "version": 3
   },
   "file_extension": ".py",
   "mimetype": "text/x-python",
   "name": "python",
   "nbconvert_exporter": "python",
   "pygments_lexer": "ipython3",
   "version": "3.10.6"
  }
 },
 "nbformat": 4,
 "nbformat_minor": 5
}
