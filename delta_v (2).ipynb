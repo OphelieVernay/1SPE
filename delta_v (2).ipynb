{
 "cells": [
  {
   "cell_type": "markdown",
   "id": "d7b7f840-f6a1-43f3-bca7-3bab6617c41a",
   "metadata": {},
   "source": [
    "<p style=\"text-align:center; font-size:28pt; font-weight:bold;background-color:tomato\"> Le vecteur variation de vitesse. </p>"
   ]
  },
  {
   "cell_type": "markdown",
   "id": "6dbc5fd3-781a-42eb-aa7a-139e852a5cd9",
   "metadata": {
    "tags": []
   },
   "source": [
    "<div class=\"alert alert-block alert-danger\">\n",
    "    <b>CONSIGNES GENERALES</b>\n",
    "     <ul>\n",
    "        <li> Lire les consignes dans les cellules bleues. </li>\n",
    "         <li> Avant de passer à la question suivante, penser à bien <b> exécuter la cellule</b> : CTRL + ENTRÉE </li>\n",
    "         <li> Dans certaines consignes, le symbole <img src=\"images/ecran.png\" style=\"width:.4cm\">\n",
    "        <img src=\"images/copie1.png\" style=\"width:.4cm\"> indique les cellules ou les graphiques dont on fera une copie d'écran dans un traitement de texte afin de l'imprimer en fin de séance.\n",
    "    </ul>\n",
    "    <p> &#9757;&#127997;Remarque : &#9757;&#127997; pour afficher les numéro de ligne, cliquer sur <b>View $\\longrightarrow$ Toggle Line Numbers (ou View Line Numbers)</b></p>\n",
    "</div>"
   ]
  },
  {
   "cell_type": "markdown",
   "id": "ae5c7330-94c9-436d-91b8-d0f4c473ce10",
   "metadata": {
    "jp-MarkdownHeadingCollapsed": true,
    "tags": []
   },
   "source": [
    "\n",
    "<h1 style=\"color:DarkCyan\"> Consignes préliminaires</h1>\n"
   ]
  },
  {
   "cell_type": "markdown",
   "id": "d5b44c18-a043-4fa4-b7ac-69c3e7ba53e5",
   "metadata": {
    "tags": []
   },
   "source": [
    "<div class=\"alert alert-block alert-info\">\n",
    "    <b> Consignes </b>\n",
    "    <p> Exécuter la cellule suivante pour importer les bibliothèques \n",
    "        nécessaires et passer à la suite. </p>\n",
    "    <p>&#9757;&#127997; <b> L'exécution ne renvoie rien </b> : c'est normal. Passer à la suite. </p>\n",
    "</div>"
   ]
  },
  {
   "cell_type": "code",
   "execution_count": null,
   "id": "b315475b-7403-43db-8d66-d4ccd91e8895",
   "metadata": {},
   "outputs": [],
   "source": [
    "import matplotlib.pyplot as plt\n",
    "import csv\n",
    "from math import *"
   ]
  },
  {
   "cell_type": "markdown",
   "id": "1d2e3b84-8964-41ad-b19f-7659386229c4",
   "metadata": {
    "tags": []
   },
   "source": [
    "<div class=\"alert alert-block alert-info\">\n",
    "    <b> Consignes </b>\n",
    "    <p> Exécuter la cellule suivante pour définir une fonction permettant d'importer les valeurs\n",
    "    d'un fichier csv, puis passer à la suite.</p>\n",
    "    <p>&#9757;&#127997; <b> L'exécution ne renvoie rien </b>, mais on pourra ensuite utiliser cette fonction pour récupérer les valeurs du pointage. </p>\n",
    "\n",
    "</div>"
   ]
  },
  {
   "cell_type": "code",
   "execution_count": null,
   "id": "b583daf9-643c-4174-86e2-cc8e650d6cd2",
   "metadata": {
    "tags": []
   },
   "outputs": [],
   "source": [
    "def importer(fichier):\n",
    "    \"\"\" Récupère les valeurs du pointage et renvoie trois listes aux noms \n",
    "    évocateurs.\n",
    "    \n",
    "    arguments:\n",
    "    fichier -- str : nom du fichier\n",
    "    \"\"\"\n",
    "    sep = \";\"\n",
    "    entete = 2 # Pour exportation Tracker\n",
    "    # séparation des données\n",
    "    with open(fichier, \"r\") as f:\n",
    "        data = f.readlines( ) # data est une liste de str --> A / ligne\n",
    "    data = data[entete: ] #on supprime les lignes d'en-tête\n",
    "    #on construit les listes de valeurs utiles\n",
    "    t = []\n",
    "    x = []\n",
    "    y = []\n",
    "    for ligne in data: \n",
    "        #change les virgules en point\n",
    "        ligne = ligne.replace(\",\" , \".\")  \n",
    "        # supprime les éventuels espaces et sépare les différents élément\n",
    "        ligne = list(ligne.strip( ).split(sep))\n",
    "        # convertit chaque élément en float\n",
    "        ligne = [float(val) for val in ligne] \n",
    "        # remplis des listes\n",
    "        t.append(ligne[0])\n",
    "        x.append(ligne[1])\n",
    "        y.append(ligne[2])\n",
    "    return t, x, y"
   ]
  },
  {
   "cell_type": "markdown",
   "id": "a761fba3-acec-4eeb-b61a-eb478cf0e000",
   "metadata": {},
   "source": [
    "---\n",
    "---"
   ]
  },
  {
   "cell_type": "markdown",
   "id": "c01a0aea-2d4d-4f41-875d-d15cf409d204",
   "metadata": {
    "jp-MarkdownHeadingCollapsed": true,
    "tags": []
   },
   "source": [
    "\n",
    "<h1 style=\"color:DarkCyan\"> Informations à disposition</h1>\n"
   ]
  },
  {
   "cell_type": "markdown",
   "id": "b889b25a-8b42-4959-b99f-77448c202bf5",
   "metadata": {},
   "source": [
    "## Doc 1 : calcul approché de la vitesse\n",
    "\n",
    "* Une première méthode, introduite en 2de, est de considérer la position $M_i$ et la position suivante $M_{i+1}$:\n",
    "\n",
    "$$ \n",
    "    \\overrightarrow{v_i} \n",
    "        = \\frac{\\overrightarrow{M_iM_{i+1}}}{(t_{i+1} - t_i)} \n",
    "$$\n",
    "\n",
    "En pratique, on calcule les coordonnées du vecteur déplacement $\\overrightarrow{M_iM_{i+1}}$ et on en déduit celles du vecteur $\\overrightarrow{v_i}$:\n",
    "\n",
    "$$  \n",
    "    \\left\\lbrace\n",
    "\t\t\\begin{aligned}\n",
    "             v_{xi} &= \\frac{x_{i+1}-x_i}{t_{i+1}-t_i} \\\\\n",
    "             v_{yi} &= \\frac{x_{i+1}-x_i}{t_{i+1}-t_i} \n",
    "        \\end{aligned}\n",
    "\t\t\\right.\n",
    "$$\n",
    "\n",
    "\n",
    "* En classe de première, on introduit une méthode de calcul approché utilisant\n",
    "le **point précédent** et le **point suivant**.\n",
    "\n",
    "$$ \n",
    "    \\overrightarrow{v_i} \n",
    "        = \\frac{\\overrightarrow{M_{i-1}M_{i+1}}}{t_{i+1} - t_{i-1}} \n",
    "$$\n",
    "\n",
    "$$  \n",
    "    \\left\\lbrace\n",
    "\t\t\\begin{aligned}\n",
    "             v_{xi} &= \\frac{x_{i+1}-x_{i-1}}{t_{i+1}-t_{i-1}} \\\\\n",
    "             v_{yi} &= \\frac{x_{i+1}-x_{i-1}}{t_{i+1}-t_{i-1}} \n",
    "        \\end{aligned}\n",
    "\t\t\\right.\n",
    "$$\n"
   ]
  },
  {
   "cell_type": "markdown",
   "id": "66f93931-c9c3-4568-975a-888b98b9d1e8",
   "metadata": {},
   "source": [
    "---"
   ]
  },
  {
   "cell_type": "markdown",
   "id": "0816c301-5e8c-4e83-99c5-99b272c0a727",
   "metadata": {},
   "source": [
    "## Doc 2 : additionner et soustraire des vecteurs.\n",
    "\n",
    "* L'addition de deux vecteurs donne un vecteur dont les coordonnées correspondent à la sommes de leur coordonnées.\n",
    "\n",
    "$$ \n",
    "    \\overrightarrow{AB} + \\overrightarrow{CD} \n",
    "        = \\left(\n",
    "            \\begin{aligned}\n",
    "                &AB_x + CD_x \\\\\n",
    "                &AB_y + CD_y\n",
    "            \\end{aligned}\n",
    "           \\right)\n",
    "$$\n",
    "        \n",
    "* De même pour la soustraction de deux vecteurs :\n",
    "$$ \n",
    "    \\overrightarrow{AB} - \\overrightarrow{CD} \n",
    "        = \\left(\n",
    "            \\begin{aligned}\n",
    "                &AB_x - CD_x \\\\\n",
    "                &AB_y - CD_y\n",
    "            \\end{aligned}\n",
    "           \\right)\n",
    "$$"
   ]
  },
  {
   "cell_type": "markdown",
   "id": "625e9abd-ccfc-4288-9129-0c6011491400",
   "metadata": {},
   "source": [
    "## Doc 3: relation approchée de la deuxième loi de Newton\n",
    "Dans un référentiel galiléen, la *somme des forces* qui s'appliquent sur un système modélisée par un point matériel et la *variation de vitesse* sont liés par la relation : \n",
    "$$\n",
    "    \\sum\\overrightarrow{F} \n",
    "        = m \\times \\frac{\\overrightarrow{\\Delta v}}{\\Delta t}\n",
    "$$\n",
    "Avec $m$ la masse du système"
   ]
  },
  {
   "cell_type": "markdown",
   "id": "43db7e42-8413-4165-ab92-269d74ac1e54",
   "metadata": {},
   "source": [
    "## Doc 4 : quelques instructions utiles en python\n",
    "* Sélectionner l'élément d'indice $i$ dans une liste : \n",
    "```python\n",
    "ma_liste[i]\n",
    "```\n",
    "* Utiliser une fonction sur l'ensemble des éléments d'une liste avec\n",
    "une boucle __*for*__ : \n",
    "```python\n",
    "N = len(ma_liste)\n",
    "for i in range(0, N, 1):\n",
    "    une_fonction(i)\n",
    "```\n",
    "\n",
    "<i> Le dernier argument est le pas: si on choisit 2, la fonction ne prendra\n",
    "qu'un élément sur deux, si on choisit 3, un élément sur 3...</i>"
   ]
  },
  {
   "cell_type": "markdown",
   "id": "ac04aa5f-a722-40f0-bfc8-5ac570e3f8fd",
   "metadata": {},
   "source": [
    "---\n",
    "---"
   ]
  },
  {
   "cell_type": "markdown",
   "id": "4013e702-5bcf-4432-ab89-307015972c29",
   "metadata": {
    "tags": []
   },
   "source": [
    "\n",
    "<h1 style=\"color:DarkCyan\">  Exploitation du pointage </h1>\n"
   ]
  },
  {
   "cell_type": "markdown",
   "id": "8290501e-3302-4c18-886a-896b883d1d4e",
   "metadata": {
    "tags": []
   },
   "source": [
    "## 1. Le vecteur vitesse"
   ]
  },
  {
   "cell_type": "markdown",
   "id": "14816861-e9c2-44fd-a767-476a4915b30d",
   "metadata": {},
   "source": [
    "### 1.1. Une fonction pour tracer le vecteur vitesse <a id=\"vect_vit\"> </a>\n"
   ]
  },
  {
   "cell_type": "markdown",
   "id": "d3dbd4f3-05ed-4c1c-93c5-412e9de59526",
   "metadata": {
    "tags": []
   },
   "source": [
    "<div class=\"alert alert-block alert-info\">\n",
    "    <b> Consignes </b>\n",
    "    <ol>\n",
    "        <li> Compléter les lignes 10 et 11 pour calculer les coordonnées du vecteur vitesse au point i </li>\n",
    "        <li> Compléter la ligne 13 pour tracer le vecteur correspondant</li>\n",
    "    </ol>\n",
    "    <p>&#9757;&#127997; <b> L'exécution ne renvoie rien </b>, mais on pourra ensuite utiliser cette fonction pour récupérer les valeurs du pointage. </p>\n",
    "</div>"
   ]
  },
  {
   "cell_type": "code",
   "execution_count": null,
   "id": "3b46b9a2-1e7c-449e-99e0-638901443bca",
   "metadata": {},
   "outputs": [],
   "source": [
    "def vect_v(x, y, t, i, echelle):\n",
    "    ''' calcul les coordonnées et trace le vecteur v au point i\n",
    "    \n",
    "    x, y    -- tableaux des coordonnées de la trajectoire\n",
    "    t       -- tableau de dates\n",
    "    i       -- indice du point pour lequel on souhaite tracer le vecteur vitesse\n",
    "    echelle -- valeur l'échelle du vecteur\n",
    "    '''\n",
    "# calcul des coordonnées  du vecteur vitesse à la position  M_i\n",
    "    vx_i = ...           ### À COMPLÉTER ###\n",
    "    vy_i = ...             ### À COMPLÉTER ###\n",
    "# tracé du vecteur au point M_i\n",
    "    plt.quiver(..., ..., ..., ..., color = \"green\", scale=echelle, angles='xy', scale_units = 'xy')  ### À COMPLÉTER ###"
   ]
  },
  {
   "cell_type": "markdown",
   "id": "500ba51b-b859-48ec-8d63-d59a1a5107ac",
   "metadata": {},
   "source": [
    "<div style=\"background-color: #fcf3cf\">\n",
    "    <p style=\"color:black; text-align:center\">\n",
    "        <img src=\"images/copie1.png\" style=\"width:.5cm\">\n",
    "        <img src=\"images/ecran.png\" style=\"width:.5cm\">\n",
    "        <b> Faire une copie d'écran (WINDOWS + MAJ + S)</b> \n",
    "        <img src=\"images/copie1.png\" style=\"width:.5cm\">\n",
    "        <img src=\"images/ecran.png\" style=\"width:.5cm\">\n",
    "    </p>\n",
    "</div>"
   ]
  },
  {
   "cell_type": "markdown",
   "id": "26dc1a29-a85b-445f-8598-ff24eaac273a",
   "metadata": {
    "tags": []
   },
   "source": [
    "<div class=\"alert alert-block alert-success\">\n",
    "    <details>\n",
    "        <summary> <b> Aide 1 </summary>\n",
    "<code>vx_i = (x[i+1] - x[i-1]) / (t[i+1] - t[i-1])</code>\n",
    "<br>\n",
    "<code>vy_i = ...</code>\n",
    "    </details>\n",
    "</div>"
   ]
  },
  {
   "cell_type": "markdown",
   "id": "7ff2bba7-dec7-4260-9898-e2875460549b",
   "metadata": {
    "tags": []
   },
   "source": [
    "<div class=\"alert alert-block alert-success\">\n",
    "    <details>\n",
    "        <summary> <b> Aide 2 </summary>\n",
    "<code>plt.quiver(x[i], ..., ..., vy_i, color = \"green\", scale=echelle, angles='xy', scale_units = 'xy')</code>\n",
    "    </details>\n",
    "</div>"
   ]
  },
  {
   "cell_type": "markdown",
   "id": "05a45c47-e8e1-45d6-89c9-d257fce86f70",
   "metadata": {},
   "source": [
    "<p>\n",
    "<img src=\"./images/tux_chimie.png\", style=\"width:2cm;display: block;margin-left: auto;margin-right: auto; \">\n",
    "</p>"
   ]
  },
  {
   "cell_type": "markdown",
   "id": "64a5bdc4-a164-4b1b-b4eb-af44aefbcd1c",
   "metadata": {},
   "source": [
    "<p style=\"text-align:center\"><b> APPEL PROFESSEUR </b></p>"
   ]
  },
  {
   "cell_type": "markdown",
   "id": "e5a68f31-5abf-4dd5-9315-19f6266f9935",
   "metadata": {},
   "source": [
    "---"
   ]
  },
  {
   "cell_type": "markdown",
   "id": "dd8f4ac0-6709-4566-9e1e-72cfe06f6bcc",
   "metadata": {},
   "source": [
    "À l'aide de cette fonction, on peut maintenant tracer les vecteurs vitesses du mouvement de la balle."
   ]
  },
  {
   "cell_type": "markdown",
   "id": "c12a7436-0822-4a99-9690-55a0d66f266e",
   "metadata": {},
   "source": [
    "### 1.2. Utiliser la fonction pour tracer des vecteurs vitesses"
   ]
  },
  {
   "cell_type": "markdown",
   "id": "888a23ef-54fd-42f8-b5ad-56bce38c2776",
   "metadata": {
    "tags": []
   },
   "source": [
    "<div class=\"alert alert-block alert-info\">\n",
    "    <b> Consignes</b>\n",
    "    <ol> \n",
    "        <li> Si nécessaire, modifier le nom du fichier, ligne 2, pour importer les valeurs du pointage. </li>\n",
    "        <li> Compléter les lignes 4, 7, 8 pour tracer la trajectoire de la balle </li>\n",
    "        <li> Compléter la ligne 10 pour tracer le vecteur à la porition $M_3$ avec une échelle de 1/7 </li>\n",
    "        <li> Ajouter des lignes pour tracer les vecteur vitesse en $M_5$, $M_{10}$, et $M_{12}$\n",
    "    </ol>\n",
    "</div>"
   ]
  },
  {
   "cell_type": "code",
   "execution_count": null,
   "id": "dc7a5e7f-0fa5-4139-8d17-af92ccaa1ada",
   "metadata": {},
   "outputs": [],
   "source": [
    "# Importation des valeurs\n",
    "tab_t, tab_x, tab_y = importer(\"resultats.csv\")\n",
    "# tracé de la trajectoire \n",
    "plt.plot(..., ..., \"o:\")   \n",
    "plt.ylim(0, 1.2*max(tab_y))  \n",
    "plt.xlim(0, 1.2*max(tab_x))\n",
    "plt.xlabel(\"...\")\n",
    "plt.ylabel(\"...\")\n",
    "# tracé des vecteurs vitesse\n",
    "vect_v(... , ... , ... , ... , ... ) \n"
   ]
  },
  {
   "cell_type": "markdown",
   "id": "f6234a4c-57dc-4c55-b7a8-dc7da3c874a2",
   "metadata": {},
   "source": [
    "<div style=\"background-color: #fcf3cf\">\n",
    "    <p style=\"color:black; text-align:center\">\n",
    "        <img src=\"images/copie1.png\" style=\"width:.5cm\">\n",
    "        <img src=\"images/ecran.png\" style=\"width:.5cm\">\n",
    "        <b> Faire une copie d'écran (WINDOWS + MAJ + S)</b> \n",
    "        <img src=\"images/copie1.png\" style=\"width:.5cm\">\n",
    "        <img src=\"images/ecran.png\" style=\"width:.5cm\">\n",
    "    </p>\n",
    "</div>"
   ]
  },
  {
   "cell_type": "markdown",
   "id": "a98b53fe-228c-4060-bf3f-6870d185bcde",
   "metadata": {
    "tags": []
   },
   "source": [
    "<div class=\"alert alert-block alert-success\">\n",
    "    <details>\n",
    "        <summary> <b> Aide  </summary>\n",
    "<ol>\n",
    "    <li> <code>tab_t, tab_x, tab_y = importer(\"nom_de_mon_fichier.csv\")</code></li>\n",
    "    <li><code>plt.plot(tab_x, ..., \"o:\")</code></li>\n",
    "    <li><code>vect_v(tab_x, tab_y, tab_t, 3, 7)</code></li>\n",
    "    <li> Copier / coller la ligne 10 et changer uniquement la valeur de i. </li>\n",
    "</ol>\n",
    "    </details>\n",
    "</div>"
   ]
  },
  {
   "cell_type": "markdown",
   "id": "a0874a5e-b1ff-4a06-a5a9-d5738c5bf586",
   "metadata": {},
   "source": [
    "----"
   ]
  },
  {
   "cell_type": "markdown",
   "id": "e863c32c-e488-49aa-9a42-b8d84b43d49f",
   "metadata": {
    "tags": []
   },
   "source": [
    "<div class=\"alert alert-block alert-danger\">\n",
    "    <b>Question Bonus</b>\n",
    "    <p> Passer directement à la partie 2 si on n'a pas le temps </p>\n",
    "</div>"
   ]
  },
  {
   "cell_type": "markdown",
   "id": "f003918b-9d57-41c3-bd5b-4e83b53ce8cf",
   "metadata": {
    "tags": []
   },
   "source": [
    "### 1.3. En utilisant une boucle for <a id=\"boucle_for\">  </a>"
   ]
  },
  {
   "cell_type": "markdown",
   "id": "f5a44213-d2f2-43d2-b024-0bd734413b6d",
   "metadata": {
    "tags": []
   },
   "source": [
    "<div class=\"alert alert-block alert-info\">\n",
    "    <b> Consignes</b>\n",
    "    <ol> \n",
    "        <li> Exécuter la cellule suivante et observer le résultat</li>\n",
    "        <li> Justifier le choix des bornes de la boucle <b>for</b> à la ligne 6 (répondre à cette question dans le compre rendu numérique). </li>\n",
    "    </ol>\n",
    "</div>"
   ]
  },
  {
   "cell_type": "code",
   "execution_count": null,
   "id": "411051ad-19ea-4c86-99f5-0d597bd63bff",
   "metadata": {},
   "outputs": [],
   "source": [
    "plt.plot(tab_x,tab_y,'o:') # tracé de la trajectoire\n",
    "plt.ylim(0, 1.2*max(tab_y))\n",
    "plt.xlim(0, 1.2*max(tab_x))\n",
    "plt.xlabel(\"x / m\")\n",
    "plt.ylabel(\"y / m\")\n",
    "N = len(tab_t) # Nombre de points\n",
    "for i in range(1, N-1, 2): # On ne veut pas la première et dernière position.\n"
   ]
  },
  {
   "cell_type": "markdown",
   "id": "0771cca7-d96b-4d9c-bdd9-25f5d751d16c",
   "metadata": {},
   "source": [
    "<div style=\"background-color: #fcf3cf\">\n",
    "    <p style=\"color:black; text-align:center\">\n",
    "        <img src=\"images/copie1.png\" style=\"width:.5cm\">\n",
    "        <img src=\"images/ecran.png\" style=\"width:.5cm\">\n",
    "        <b> Faire une copie d'écran (WINDOWS + MAJ + S)</b> \n",
    "        <img src=\"images/copie1.png\" style=\"width:.5cm\">\n",
    "        <img src=\"images/ecran.png\" style=\"width:.5cm\">\n",
    "    </p>\n",
    "</div>"
   ]
  },
  {
   "cell_type": "markdown",
   "id": "8deb4b1c-f8b0-4d8c-ae7a-ac356a2ed2fa",
   "metadata": {
    "tags": []
   },
   "source": [
    "<div class=\"alert alert-block alert-success\">\n",
    "    <details>\n",
    "        <summary> <b> Aide  </summary>\n",
    "         <p> Copier / coller la ligne 10 de la cellule précédente et replacer la valeur de la position par i </p>\n",
    "    </details>\n",
    "</div>"
   ]
  },
  {
   "cell_type": "markdown",
   "id": "55d45931-42bc-48ca-93dc-144104c0b1ab",
   "metadata": {},
   "source": [
    "----"
   ]
  },
  {
   "cell_type": "markdown",
   "id": "9e57169b-d29b-4610-bd74-4ce55337ab81",
   "metadata": {
    "tags": []
   },
   "source": [
    "## 2. Le vecteur variation de vitesse"
   ]
  },
  {
   "cell_type": "markdown",
   "id": "bf1aec33-ac70-4f92-b212-41a505eaa4e7",
   "metadata": {},
   "source": [
    "### 2.1. Une fonction pour tracer le vecteur $\\vec{\\Delta v}$ <a id=\"vect_delta_v\"> </a>"
   ]
  },
  {
   "cell_type": "markdown",
   "id": "c4de192e-deb3-49bd-a6fa-a4fdd0db65af",
   "metadata": {
    "tags": []
   },
   "source": [
    "<div class=\"alert alert-block alert-info\">\n",
    "    <b> Consigne</b>\n",
    "    <p>  Compléter les lignes 17 et 18 pour déterminer les coordonnées de $\\overrightarrow{\\Delta v_i}$ </p>\n",
    "</div>"
   ]
  },
  {
   "cell_type": "code",
   "execution_count": null,
   "id": "49950b62-caa2-46e1-845a-a0e1d535bf02",
   "metadata": {},
   "outputs": [],
   "source": [
    "def vect_delta_v(x, y, t, i, echelle):\n",
    "    ''' calcul les coordonnées et trace le vecteur delta_v au point i\n",
    "    \n",
    "    x, y      -- tableau des coordonnées de la trajectoire\n",
    "    t         -- tableau de date\n",
    "    i         -- indice du point pour lequel on souhaite tracer le vecteur vitesse\n",
    "    echelle   -- valeur l'échelle du vecteur\n",
    "    '''\n",
    "    dt = t[1] - t[0]\n",
    "# détermination des coordonnées du vecteur vitesse de la position M_i-1 (point d'avant)\n",
    "    vx_av = (x[i] - x[i-2]) / (2*dt)\n",
    "    vy_av = (y[i] - y[i-2]) / (2*dt)\n",
    "# détermination des coordonnées du vecteur vitesse de la position M_i+1 (point d'après)\n",
    "    vx_app = (x[i+2] - x[i]) / (2*dt)\n",
    "    vy_app = (y[i+2] - y[i]) / (2*dt)\n",
    "# détermination des coordonnées du vecteur delta_v de la position M_i\n",
    "    dvx = ...\n",
    "    dvy = ...\n",
    "#Tracer du vecteur\n",
    "    vect_dv = plt.quiver(x[i], y[i], dvx, dvy, angles='xy', scale_units='xy', scale=echelle, color=\"red\")"
   ]
  },
  {
   "cell_type": "markdown",
   "id": "56ec4c2b-aa40-4355-8a7b-abd797631b1f",
   "metadata": {},
   "source": [
    "<div style=\"background-color: #fcf3cf\">\n",
    "    <p style=\"color:black; text-align:center\">\n",
    "        <img src=\"images/copie1.png\" style=\"width:.5cm\">\n",
    "        <img src=\"images/ecran.png\" style=\"width:.5cm\">\n",
    "        <b> Faire une copie d'écran (WINDOWS + MAJ + S)</b> \n",
    "        <img src=\"images/copie1.png\" style=\"width:.5cm\">\n",
    "        <img src=\"images/ecran.png\" style=\"width:.5cm\">\n",
    "    </p>\n",
    "</div>"
   ]
  },
  {
   "cell_type": "markdown",
   "id": "17990072-93d1-476e-a545-f6524b5040f3",
   "metadata": {},
   "source": [
    "<p>\n",
    "<img src=\"./images/tux_chimie.png\", style=\"width:2cm;display: block;margin-left: auto;margin-right: auto; \">\n",
    "</p>"
   ]
  },
  {
   "cell_type": "markdown",
   "id": "24505134-409a-44ee-8c05-d489f904c95d",
   "metadata": {},
   "source": [
    "<p style=\"text-align:center\"><b> APPEL PROFESSEUR </b></p>"
   ]
  },
  {
   "cell_type": "markdown",
   "id": "03ff4a3c-c6fd-4997-86c3-bceb152d1fac",
   "metadata": {},
   "source": [
    "### 2.2. Utiliser la fonction pour tracer des vecteurs $\\vec{\\Delta v}$"
   ]
  },
  {
   "cell_type": "markdown",
   "id": "80ad2713-feec-494d-a2e1-7a1fd1a76c45",
   "metadata": {
    "tags": []
   },
   "source": [
    "<div class=\"alert alert-block alert-info\">\n",
    "    <b> Consignes</b>\n",
    "    <p> \n",
    "        Compléter la ligne 9 pour tracer le vecteur $\\overrightarrow{\\Delta v_{11}}$ à l'échelle 1/4. <br>Vérifier que le tracé des vecteurs est cohérent. \n",
    "    </p>\n",
    "</div>"
   ]
  },
  {
   "cell_type": "code",
   "execution_count": null,
   "id": "4bcd1e7e-3be6-41ee-a892-6ab002ebc23e",
   "metadata": {},
   "outputs": [],
   "source": [
    "plt.plot(tab_x,tab_y,'o:')\n",
    "plt.ylim(0, 1.2*max(tab_y))\n",
    "plt.xlim(0, 1.2*max(tab_x))\n",
    "plt.grid()\n",
    "plt.xlabel(\"x / m\")\n",
    "plt.ylabel(\"y / m\")\n",
    "vect_v(tab_x, tab_y, tab_t, 10, 4)\n",
    "vect_v(tab_x, tab_y, tab_t,12, 4)\n",
    "...\n",
    "plt.show()"
   ]
  },
  {
   "cell_type": "markdown",
   "id": "90e9b0f1-f329-45be-84c4-733183c732c9",
   "metadata": {},
   "source": [
    "### 2.3. Et en utilisant une boucle for"
   ]
  },
  {
   "cell_type": "markdown",
   "id": "26892abb-4751-43a5-a790-c7401e95bfdc",
   "metadata": {
    "tags": []
   },
   "source": [
    "<div class=\"alert alert-block alert-info\">\n",
    "    <b> Consignes</b>\n",
    "    <p>\n",
    "        Compléter les lignes 9 et 10 pour tracer les vecteurs $\\overrightarrow{\\Delta v}$ à l'échelle 1/4 pour toutes les positions <em> sauf les deux premières et les deux dernières. </em>\n",
    "    </p>\n",
    "</div>"
   ]
  },
  {
   "cell_type": "code",
   "execution_count": null,
   "id": "04f1cbf0-8825-42ec-956b-dc2b943ea189",
   "metadata": {},
   "outputs": [],
   "source": [
    "# trajectoire\n",
    "plt.plot(tab_x,tab_y,'o:')\n",
    "plt.ylim(0, 1.2*max(tab_y))\n",
    "plt.xlim(0, 1.2*max(tab_x))\n",
    "plt.xlabel(\"x / m\")\n",
    "plt.ylabel(\"y / m\")\n",
    "# vecteurs delta_v\n",
    "N = len(tab_t)\n",
    "for i in range(..., ...):\n",
    "    vect_delta_v(tab_x, tab_y, tab_t, ..., 4)\n",
    "plt.show()"
   ]
  },
  {
   "cell_type": "markdown",
   "id": "620265b5-8f08-45b5-bedd-9ebd963bfde8",
   "metadata": {
    "tags": []
   },
   "source": [
    "<div class=\"alert alert-block alert-success\">\n",
    "    <details>\n",
    "        <summary> <b> Solution </summary>\n",
    "<p><code> for i in range(2, N-2):\n",
    "    vect_delta_v(tab_x, tab_y, tab_t, i, 4) </code></p>\n",
    "    </details>\n",
    "</div>"
   ]
  },
  {
   "cell_type": "markdown",
   "id": "df9b1266-0956-4a94-ab73-f9491085dc06",
   "metadata": {},
   "source": [
    "<div style=\"background-color: #fcf3cf\">\n",
    "    <p style=\"color:black; text-align:center\">\n",
    "        <img src=\"images/copie1.png\" style=\"width:.5cm\">\n",
    "        <img src=\"images/ecran.png\" style=\"width:.5cm\">\n",
    "        <b> Faire une copie d'écran (WINDOWS + MAJ + S)</b> \n",
    "        <img src=\"images/copie1.png\" style=\"width:.5cm\">\n",
    "        <img src=\"images/ecran.png\" style=\"width:.5cm\">\n",
    "    </p>\n",
    "</div>"
   ]
  },
  {
   "cell_type": "markdown",
   "id": "4bd454ec-2521-47af-a340-c822554cc7ac",
   "metadata": {},
   "source": [
    "## 3. En utilisant la définition de 2de"
   ]
  },
  {
   "cell_type": "markdown",
   "id": "cc72f23b-ee40-44f5-8738-6105203d213f",
   "metadata": {
    "tags": []
   },
   "source": [
    "<div class=\"alert alert-block alert-info\">\n",
    "    <b> Consignes</b>\n",
    "    <p>\n",
    "       En procédant de manière analogue aux parties précédentes, mais en prenant l'approximation de 2de, compléter la ligne 6 et exécuter la cellule suivante.\n",
    "    </p>\n",
    "</div>"
   ]
  },
  {
   "cell_type": "code",
   "execution_count": null,
   "id": "1dde7c0c-2545-4f94-9928-eb9ebaad2028",
   "metadata": {},
   "outputs": [],
   "source": [
    "def vect_vitesse_2de(x, y, t, i, echelle):\n",
    "    '''x , y et t : listes des coordonnées de la trajectoires et des dates\n",
    "    i : indice du point pour lequel on souhaite tracer le vecteur vitesse'''\n",
    "    dt = t[2] - t[1]\n",
    "    vx_i = (x[i+1] - x[i]) / (dt) \n",
    "    vy_i = ...\n",
    "\n",
    "    plt.quiver(x[i], y[i], vx_i, vy_i, angles='xy', scale_units='xy', scale=echelle, color = \"green\")\n",
    "#\n",
    "# ------------------------------------------------------------------------------\n",
    "#\n",
    "def vect_delta_v_2de(x, y, t, i, echelle):\n",
    "    '''x , y et t : listes des coordonnées de la trajectoires et des dates\n",
    "    i : indice du point pour lequel on souhaite tracer le vecteur delta_v'''\n",
    "\n",
    "    dt = t[1] - t[0]\n",
    "# détermination des coordonnées du vecteur vitesse de la position M_i\n",
    "    vx1 = (x[i] - x[i-1]) / dt\n",
    "    vy1 = (y[i] - y[i-1]) / dt\n",
    "# détermination des coordonnées du vecteur vitesse de la position M_i+1\n",
    "    vx2 = (x[i+1] - x[i]) / dt\n",
    "    vy2 = (y[i+1] - y[i]) / dt\n",
    "# détermination des coordonnées du vecteur delta_v de la position M_i\n",
    "    dvx = vx2 - vx1\n",
    "    dvy = dvy = vy2 - vy1\n",
    "#Tracer du vecteur\n",
    "    vect_dv = plt.quiver(x[i], y[i], dvx, dvy, angles='xy', scale_units='xy', scale=echelle, color=\"red\")"
   ]
  },
  {
   "cell_type": "markdown",
   "id": "2499a6d2-1f3f-4299-a927-b164e87e6c2a",
   "metadata": {
    "tags": []
   },
   "source": [
    "<div class=\"alert alert-block alert-success\">\n",
    "    <details>\n",
    "        <summary> <b> Solution </summary>\n",
    "<p><code> vy_i = (y[i+1] - y[i]) / (dt) </code></p>\n",
    "    </details>\n",
    "</div>"
   ]
  },
  {
   "cell_type": "markdown",
   "id": "1a9e64c0-1377-4bcb-ac9a-cb28acaf0035",
   "metadata": {
    "tags": []
   },
   "source": [
    "<div class=\"alert alert-block alert-info\">\n",
    "    <b> Consignes</b>\n",
    "    <p>\n",
    "       Exéctuer la cellule suivante pour observer le résulat de la méthode de 2de\n",
    "    </p>\n",
    "</div>"
   ]
  },
  {
   "cell_type": "code",
   "execution_count": null,
   "id": "21359089-5ff3-49ab-ac78-33efcbac0633",
   "metadata": {},
   "outputs": [],
   "source": [
    "# Tracé des vecteurs vitesses\n",
    "plt.plot(tab_x,tab_y,'o:')\n",
    "plt.ylim(0, 1.2*max(tab_y))\n",
    "plt.xlim(0, 1.2*max(tab_x))\n",
    "for i in range(1, N-1):\n",
    "    vect_vitesse_2de(tab_x, tab_y, tab_t, i, 7)\n",
    "plt.show()\n",
    "#-----------------------------\n",
    "#Tracé des vecteurs variations de vitesse\n",
    "plt.plot(tab_x,tab_y,'o:')\n",
    "plt.ylim(0, 1.2*max(tab_y))\n",
    "plt.xlim(0, 1.2*max(tab_x))\n",
    "for i in range(2, N-2):\n",
    "    vect_delta_v_2de(tab_x, tab_y, tab_t, i, 4)\n",
    "plt.show()"
   ]
  },
  {
   "cell_type": "markdown",
   "id": "9b2fdd7b-7670-4bb5-9834-ba0540a8cb21",
   "metadata": {},
   "source": [
    "<div style=\"background-color: #fcf3cf\">\n",
    "    <p style=\"color:black; text-align:center\">\n",
    "        <img src=\"images/copie1.png\" style=\"width:.5cm\">\n",
    "        <img src=\"images/ecran.png\" style=\"width:.5cm\">\n",
    "        <b> Faire une copie d'écran (WINDOWS + MAJ + S)</b> \n",
    "        <img src=\"images/copie1.png\" style=\"width:.5cm\">\n",
    "        <img src=\"images/ecran.png\" style=\"width:.5cm\">\n",
    "    </p>\n",
    "</div>"
   ]
  }
 ],
 "metadata": {
  "kernelspec": {
   "display_name": "Python 3 (ipykernel)",
   "language": "python",
   "name": "python3"
  },
  "language_info": {
   "codemirror_mode": {
    "name": "ipython",
    "version": 3
   },
   "file_extension": ".py",
   "mimetype": "text/x-python",
   "name": "python",
   "nbconvert_exporter": "python",
   "pygments_lexer": "ipython3",
   "version": "3.10.6"
  }
 },
 "nbformat": 4,
 "nbformat_minor": 5
}
